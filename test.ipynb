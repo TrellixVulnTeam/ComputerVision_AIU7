{
 "cells": [
  {
   "cell_type": "code",
   "execution_count": 1,
   "metadata": {},
   "outputs": [],
   "source": [
    "#Import the packages needed.\n",
    "import torch\n",
    "import torchvision\n",
    "import matplotlib.pyplot as plt\n",
    "import numpy as np"
   ]
  },
  {
   "cell_type": "code",
   "execution_count": 2,
   "metadata": {},
   "outputs": [
    {
     "name": "stdout",
     "output_type": "stream",
     "text": [
      "Downloading http://yann.lecun.com/exdb/mnist/train-images-idx3-ubyte.gz\n",
      "Downloading http://yann.lecun.com/exdb/mnist/train-images-idx3-ubyte.gz to ./data\\MNIST\\raw\\train-images-idx3-ubyte.gz\n"
     ]
    },
    {
     "name": "stderr",
     "output_type": "stream",
     "text": [
      "9913344it [00:01, 9870787.84it/s]                              \n"
     ]
    },
    {
     "name": "stdout",
     "output_type": "stream",
     "text": [
      "Extracting ./data\\MNIST\\raw\\train-images-idx3-ubyte.gz to ./data\\MNIST\\raw\n",
      "\n",
      "Downloading http://yann.lecun.com/exdb/mnist/train-labels-idx1-ubyte.gz\n",
      "Downloading http://yann.lecun.com/exdb/mnist/train-labels-idx1-ubyte.gz to ./data\\MNIST\\raw\\train-labels-idx1-ubyte.gz\n"
     ]
    },
    {
     "name": "stderr",
     "output_type": "stream",
     "text": [
      "29696it [00:00, 29769132.79it/s]         \n"
     ]
    },
    {
     "name": "stdout",
     "output_type": "stream",
     "text": [
      "Extracting ./data\\MNIST\\raw\\train-labels-idx1-ubyte.gz to ./data\\MNIST\\raw\n",
      "\n",
      "Downloading http://yann.lecun.com/exdb/mnist/t10k-images-idx3-ubyte.gz\n",
      "Downloading http://yann.lecun.com/exdb/mnist/t10k-images-idx3-ubyte.gz to ./data\\MNIST\\raw\\t10k-images-idx3-ubyte.gz\n"
     ]
    },
    {
     "name": "stderr",
     "output_type": "stream",
     "text": [
      "1649664it [00:00, 5301510.58it/s]                            \n"
     ]
    },
    {
     "name": "stdout",
     "output_type": "stream",
     "text": [
      "Extracting ./data\\MNIST\\raw\\t10k-images-idx3-ubyte.gz to ./data\\MNIST\\raw\n",
      "\n",
      "Downloading http://yann.lecun.com/exdb/mnist/t10k-labels-idx1-ubyte.gz\n",
      "Downloading http://yann.lecun.com/exdb/mnist/t10k-labels-idx1-ubyte.gz to ./data\\MNIST\\raw\\t10k-labels-idx1-ubyte.gz\n"
     ]
    },
    {
     "name": "stderr",
     "output_type": "stream",
     "text": [
      "5120it [00:00, ?it/s]                   "
     ]
    },
    {
     "name": "stdout",
     "output_type": "stream",
     "text": [
      "Extracting ./data\\MNIST\\raw\\t10k-labels-idx1-ubyte.gz to ./data\\MNIST\\raw\n",
      "\n"
     ]
    },
    {
     "name": "stderr",
     "output_type": "stream",
     "text": [
      "\n"
     ]
    }
   ],
   "source": [
    "from torchvision.transforms import ToTensor\n",
    "\n",
    "data_train = torchvision.datasets.MNIST('./data',\n",
    "        download=True,train=True,transform=ToTensor())\n",
    "data_test = torchvision.datasets.MNIST('./data',\n",
    "        download=True,train=False,transform=ToTensor())"
   ]
  },
  {
   "cell_type": "code",
   "execution_count": 3,
   "metadata": {},
   "outputs": [
    {
     "data": {
      "image/png": "[encoded data removed]",
      "text/plain": [
       "<Figure size 432x288 with 7 Axes>"
      ]
     },
     "metadata": {
      "needs_background": "light"
     },
     "output_type": "display_data"
    }
   ],
   "source": [
    "fig,ax = plt.subplots(1,7)\n",
    "for i in range(7):\n",
    "    ax[i].imshow(data_train[i][0].view(28,28))\n",
    "    ax[i].set_title(data_train[i][1])\n",
    "    ax[i].axis('off')"
   ]
  },
  {
   "cell_type": "code",
   "execution_count": 4,
   "metadata": {},
   "outputs": [
    {
     "name": "stdout",
     "output_type": "stream",
     "text": [
      "Training samples: 60000\n",
      "Test samples: 10000\n",
      "Tensor size: torch.Size([1, 28, 28])\n",
      "First 10 digits are: [5, 0, 4, 1, 9, 2, 1, 3, 1, 4]\n"
     ]
    }
   ],
   "source": [
    "print('Training samples:',len(data_train))\n",
    "print('Test samples:',len(data_test))\n",
    "\n",
    "print('Tensor size:',data_train[0][0].size())\n",
    "print('First 10 digits are:', [data_train[i][1] for i in range(10)])"
   ]
  },
  {
   "cell_type": "code",
   "execution_count": 5,
   "metadata": {},
   "outputs": [
    {
     "name": "stdout",
     "output_type": "stream",
     "text": [
      "Min intensity value:  0.0\n",
      "Max intensity value:  1.0\n"
     ]
    }
   ],
   "source": [
    "print('Min intensity value: ',data_train[0][0].min().item())\n",
    "print('Max intensity value: ',data_train[0][0].max().item())"
   ]
  },
  {
   "cell_type": "code",
   "execution_count": 6,
   "metadata": {},
   "outputs": [],
   "source": [
    "# Create a dataloader to load the data in batches\n",
    "batch_size = 100\n",
    "train_loader = torch.utils.data.DataLoader(data_train,batch_size=batch_size,shuffle=True)\n",
    "test_loader = torch.utils.data.DataLoader(data_test,batch_size=batch_size,shuffle=True)\n"
   ]
  },
  {
   "cell_type": "code",
   "execution_count": 7,
   "metadata": {},
   "outputs": [],
   "source": [
    "# Define the model\n",
    "class CNN(torch.nn.Module):\n",
    "    def __init__(self):\n",
    "        super(CNN,self).__init__()\n",
    "        self.conv1 = torch.nn.Conv2d(1,10,kernel_size=5)\n",
    "        self.conv2 = torch.nn.Conv2d(10,20,kernel_size=5)\n",
    "        self.conv2_drop = torch.nn.Dropout2d()\n",
    "        self.fc1 = torch.nn.Linear(320,50)\n",
    "        self.fc2 = torch.nn.Linear(50,10)\n",
    "\n",
    "    def forward(self,x):\n",
    "        x = torch.nn.functional.relu(self.conv1(x))\n",
    "        x = torch.nn.functional.max_pool2d(x,2)\n",
    "        x = torch.nn.functional.relu(self.conv2(x))\n",
    "        x = torch.nn.functional.max_pool2d(x,2)\n",
    "        x = x.view(-1,320)\n",
    "        x = torch.nn.functional.relu(self.fc1(x))\n",
    "        x = self.fc2(x)\n",
    "        return x\n",
    "        "
   ]
  },
  {
   "cell_type": "code",
   "execution_count": 8,
   "metadata": {},
   "outputs": [],
   "source": [
    "# Create the model\n",
    "model = CNN()"
   ]
  },
  {
   "cell_type": "code",
   "execution_count": 9,
   "metadata": {},
   "outputs": [],
   "source": [
    "# fit the model\n",
    "learning_rate = 0.01\n",
    "optimizer = torch.optim.SGD(model.parameters(),lr=learning_rate)\n"
   ]
  },
  {
   "cell_type": "code",
   "execution_count": 10,
   "metadata": {},
   "outputs": [],
   "source": [
    "# Define the loss function \n",
    "loss_fn = torch.nn.CrossEntropyLoss()\n"
   ]
  },
  {
   "cell_type": "code",
   "execution_count": 11,
   "metadata": {},
   "outputs": [
    {
     "name": "stdout",
     "output_type": "stream",
     "text": [
      "Training the model...\n",
      "Iteration: 0 Loss: 2.3124539852142334\n",
      "Iteration: 100 Loss: 2.3100311756134033\n",
      "Iteration: 200 Loss: 2.291125535964966\n",
      "Iteration: 300 Loss: 2.2901456356048584\n",
      "Iteration: 400 Loss: 2.295431137084961\n",
      "Iteration: 500 Loss: 2.2362284660339355\n"
     ]
    }
   ],
   "source": [
    "# matrices to store the loss and accuracy\n",
    "loss_mat = np.zeros(len(train_loader))\n",
    "acc_mat = np.zeros(len(train_loader))\n",
    "print('Training the model...')\n",
    "for i,(data,target) in enumerate(train_loader):\n",
    "    data,target = data.to(torch.float),target.to(torch.long)\n",
    "    output = model(data)\n",
    "    loss = loss_fn(output,target)\n",
    "    optimizer.zero_grad()\n",
    "    loss.backward()\n",
    "    optimizer.step()\n",
    "    loss_mat[i] = loss.item()\n",
    "    acc_mat[i] = (output.argmax(dim=1)==target).sum().item()/target.shape[0]\n",
    "    if i%100==0:\n",
    "        print('Iteration:',i,'Loss:',loss.item())"
   ]
  },
  {
   "cell_type": "code",
   "execution_count": 12,
   "metadata": {},
   "outputs": [
    {
     "name": "stdout",
     "output_type": "stream",
     "text": [
      "Test accuracy: 0.46\n",
      "Test accuracy: 0.47\n",
      "Test accuracy: 0.42\n",
      "Test accuracy: 0.41\n",
      "Test accuracy: 0.44\n",
      "Test accuracy: 0.43\n",
      "Test accuracy: 0.44\n",
      "Test accuracy: 0.35\n",
      "Test accuracy: 0.37\n",
      "Test accuracy: 0.4\n",
      "Test accuracy: 0.5\n",
      "Test accuracy: 0.44\n",
      "Test accuracy: 0.46\n",
      "Test accuracy: 0.39\n",
      "Test accuracy: 0.42\n",
      "Test accuracy: 0.43\n",
      "Test accuracy: 0.39\n",
      "Test accuracy: 0.45\n",
      "Test accuracy: 0.44\n",
      "Test accuracy: 0.41\n",
      "Test accuracy: 0.5\n",
      "Test accuracy: 0.46\n",
      "Test accuracy: 0.41\n",
      "Test accuracy: 0.43\n",
      "Test accuracy: 0.51\n",
      "Test accuracy: 0.47\n",
      "Test accuracy: 0.38\n",
      "Test accuracy: 0.52\n",
      "Test accuracy: 0.41\n",
      "Test accuracy: 0.45\n",
      "Test accuracy: 0.48\n",
      "Test accuracy: 0.45\n",
      "Test accuracy: 0.41\n",
      "Test accuracy: 0.32\n",
      "Test accuracy: 0.36\n",
      "Test accuracy: 0.48\n",
      "Test accuracy: 0.38\n",
      "Test accuracy: 0.5\n",
      "Test accuracy: 0.45\n",
      "Test accuracy: 0.53\n",
      "Test accuracy: 0.3\n",
      "Test accuracy: 0.4\n",
      "Test accuracy: 0.41\n",
      "Test accuracy: 0.44\n",
      "Test accuracy: 0.48\n",
      "Test accuracy: 0.45\n",
      "Test accuracy: 0.37\n",
      "Test accuracy: 0.52\n",
      "Test accuracy: 0.44\n",
      "Test accuracy: 0.4\n",
      "Test accuracy: 0.48\n",
      "Test accuracy: 0.42\n",
      "Test accuracy: 0.38\n",
      "Test accuracy: 0.4\n",
      "Test accuracy: 0.43\n",
      "Test accuracy: 0.49\n",
      "Test accuracy: 0.37\n",
      "Test accuracy: 0.44\n",
      "Test accuracy: 0.44\n",
      "Test accuracy: 0.45\n",
      "Test accuracy: 0.44\n",
      "Test accuracy: 0.46\n",
      "Test accuracy: 0.42\n",
      "Test accuracy: 0.54\n",
      "Test accuracy: 0.49\n",
      "Test accuracy: 0.49\n",
      "Test accuracy: 0.5\n",
      "Test accuracy: 0.36\n",
      "Test accuracy: 0.5\n",
      "Test accuracy: 0.34\n",
      "Test accuracy: 0.42\n",
      "Test accuracy: 0.49\n",
      "Test accuracy: 0.42\n",
      "Test accuracy: 0.39\n",
      "Test accuracy: 0.47\n",
      "Test accuracy: 0.34\n",
      "Test accuracy: 0.47\n",
      "Test accuracy: 0.39\n",
      "Test accuracy: 0.46\n",
      "Test accuracy: 0.48\n",
      "Test accuracy: 0.41\n",
      "Test accuracy: 0.38\n",
      "Test accuracy: 0.43\n",
      "Test accuracy: 0.41\n",
      "Test accuracy: 0.38\n",
      "Test accuracy: 0.43\n",
      "Test accuracy: 0.48\n",
      "Test accuracy: 0.46\n",
      "Test accuracy: 0.45\n",
      "Test accuracy: 0.34\n",
      "Test accuracy: 0.5\n",
      "Test accuracy: 0.46\n",
      "Test accuracy: 0.47\n",
      "Test accuracy: 0.43\n",
      "Test accuracy: 0.5\n",
      "Test accuracy: 0.47\n",
      "Test accuracy: 0.38\n",
      "Test accuracy: 0.34\n",
      "Test accuracy: 0.42\n",
      "Test accuracy: 0.38\n"
     ]
    }
   ],
   "source": [
    "# accuracy on test set\n",
    "acc_test = np.zeros(len(test_loader))\n",
    "for i,(data,target) in enumerate(test_loader):\n",
    "    data,target = data.to(torch.float),target.to(torch.long)\n",
    "    output = model(data)\n",
    "    acc_test[i] = (output.argmax(dim=1)==target).sum().item()/target.shape[0]\n",
    "    print('Test accuracy:',acc_test[i])"
   ]
  },
  {
   "cell_type": "code",
   "execution_count": 13,
   "metadata": {},
   "outputs": [
    {
     "data": {
      "image/png": "[encoded data removed]",
      "text/plain": [
       "<Figure size 432x288 with 2 Axes>"
      ]
     },
     "metadata": {
      "needs_background": "light"
     },
     "output_type": "display_data"
    }
   ],
   "source": [
    "# Plot the loss and accuracy\n",
    "fig,ax = plt.subplots(1,2)\n",
    "ax[0].plot(loss_mat)\n",
    "ax[0].set_title('Loss')\n",
    "ax[1].plot(acc_mat)\n",
    "ax[1].set_title('Accuracy')\n",
    "plt.show()"
   ]
  },
  {
   "cell_type": "code",
   "execution_count": 14,
   "metadata": {},
   "outputs": [
    {
     "name": "stdout",
     "output_type": "stream",
     "text": [
      "Training the model with learning rate: 0.001\n",
      "Iteration: 0 Loss: 2.310633897781372\n",
      "Iteration: 100 Loss: 2.2958571910858154\n",
      "Iteration: 200 Loss: 2.296879291534424\n",
      "Iteration: 300 Loss: 2.3020763397216797\n",
      "Iteration: 400 Loss: 2.3131771087646484\n",
      "Iteration: 500 Loss: 2.3080832958221436\n",
      "Test accuracy: 0.11\n",
      "Test accuracy: 0.11\n",
      "Test accuracy: 0.11\n",
      "Test accuracy: 0.08\n",
      "Test accuracy: 0.17\n",
      "Test accuracy: 0.14\n",
      "Test accuracy: 0.12\n",
      "Test accuracy: 0.12\n",
      "Test accuracy: 0.1\n",
      "Test accuracy: 0.13\n",
      "Test accuracy: 0.14\n",
      "Test accuracy: 0.14\n",
      "Test accuracy: 0.08\n",
      "Test accuracy: 0.12\n",
      "Test accuracy: 0.1\n",
      "Test accuracy: 0.1\n",
      "Test accuracy: 0.18\n",
      "Test accuracy: 0.13\n",
      "Test accuracy: 0.09\n",
      "Test accuracy: 0.11\n",
      "Test accuracy: 0.17\n",
      "Test accuracy: 0.11\n",
      "Test accuracy: 0.09\n",
      "Test accuracy: 0.12\n",
      "Test accuracy: 0.07\n",
      "Test accuracy: 0.07\n",
      "Test accuracy: 0.09\n",
      "Test accuracy: 0.13\n",
      "Test accuracy: 0.11\n",
      "Test accuracy: 0.16\n",
      "Test accuracy: 0.07\n",
      "Test accuracy: 0.1\n",
      "Test accuracy: 0.15\n",
      "Test accuracy: 0.19\n",
      "Test accuracy: 0.13\n",
      "Test accuracy: 0.05\n",
      "Test accuracy: 0.15\n",
      "Test accuracy: 0.13\n",
      "Test accuracy: 0.13\n",
      "Test accuracy: 0.16\n",
      "Test accuracy: 0.17\n",
      "Test accuracy: 0.11\n",
      "Test accuracy: 0.16\n",
      "Test accuracy: 0.12\n",
      "Test accuracy: 0.15\n",
      "Test accuracy: 0.18\n",
      "Test accuracy: 0.09\n",
      "Test accuracy: 0.11\n",
      "Test accuracy: 0.12\n",
      "Test accuracy: 0.11\n",
      "Test accuracy: 0.09\n",
      "Test accuracy: 0.09\n",
      "Test accuracy: 0.06\n",
      "Test accuracy: 0.08\n",
      "Test accuracy: 0.09\n",
      "Test accuracy: 0.13\n",
      "Test accuracy: 0.12\n",
      "Test accuracy: 0.06\n",
      "Test accuracy: 0.09\n",
      "Test accuracy: 0.14\n",
      "Test accuracy: 0.14\n",
      "Test accuracy: 0.13\n",
      "Test accuracy: 0.1\n",
      "Test accuracy: 0.11\n",
      "Test accuracy: 0.1\n",
      "Test accuracy: 0.15\n",
      "Test accuracy: 0.15\n",
      "Test accuracy: 0.11\n",
      "Test accuracy: 0.19\n",
      "Test accuracy: 0.11\n",
      "Test accuracy: 0.15\n",
      "Test accuracy: 0.09\n",
      "Test accuracy: 0.09\n",
      "Test accuracy: 0.15\n",
      "Test accuracy: 0.07\n",
      "Test accuracy: 0.15\n",
      "Test accuracy: 0.12\n",
      "Test accuracy: 0.23\n",
      "Test accuracy: 0.09\n",
      "Test accuracy: 0.13\n",
      "Test accuracy: 0.14\n",
      "Test accuracy: 0.1\n",
      "Test accuracy: 0.1\n",
      "Test accuracy: 0.04\n",
      "Test accuracy: 0.11\n",
      "Test accuracy: 0.12\n",
      "Test accuracy: 0.14\n",
      "Test accuracy: 0.08\n",
      "Test accuracy: 0.14\n",
      "Test accuracy: 0.09\n",
      "Test accuracy: 0.1\n",
      "Test accuracy: 0.09\n",
      "Test accuracy: 0.09\n",
      "Test accuracy: 0.1\n",
      "Test accuracy: 0.13\n",
      "Test accuracy: 0.09\n",
      "Test accuracy: 0.15\n",
      "Test accuracy: 0.15\n",
      "Test accuracy: 0.12\n",
      "Test accuracy: 0.1\n"
     ]
    },
    {
     "data": {
      "image/png": "[encoded data removed]",
      "text/plain": [
       "<Figure size 432x288 with 2 Axes>"
      ]
     },
     "metadata": {
      "needs_background": "light"
     },
     "output_type": "display_data"
    },
    {
     "name": "stdout",
     "output_type": "stream",
     "text": [
      "Training the model with learning rate: 0.01\n",
      "Iteration: 0 Loss: 2.307440996170044\n",
      "Iteration: 100 Loss: 2.2854344844818115\n",
      "Iteration: 200 Loss: 2.269477128982544\n",
      "Iteration: 300 Loss: 2.184770107269287\n",
      "Iteration: 400 Loss: 1.965888261795044\n",
      "Iteration: 500 Loss: 1.1478655338287354\n",
      "Test accuracy: 0.82\n",
      "Test accuracy: 0.79\n",
      "Test accuracy: 0.77\n",
      "Test accuracy: 0.83\n",
      "Test accuracy: 0.76\n",
      "Test accuracy: 0.71\n",
      "Test accuracy: 0.74\n",
      "Test accuracy: 0.84\n",
      "Test accuracy: 0.83\n",
      "Test accuracy: 0.74\n",
      "Test accuracy: 0.78\n",
      "Test accuracy: 0.79\n",
      "Test accuracy: 0.71\n",
      "Test accuracy: 0.79\n",
      "Test accuracy: 0.87\n",
      "Test accuracy: 0.82\n",
      "Test accuracy: 0.81\n",
      "Test accuracy: 0.74\n",
      "Test accuracy: 0.83\n",
      "Test accuracy: 0.85\n",
      "Test accuracy: 0.79\n",
      "Test accuracy: 0.8\n",
      "Test accuracy: 0.75\n",
      "Test accuracy: 0.79\n",
      "Test accuracy: 0.79\n",
      "Test accuracy: 0.82\n",
      "Test accuracy: 0.8\n",
      "Test accuracy: 0.76\n",
      "Test accuracy: 0.7\n",
      "Test accuracy: 0.74\n",
      "Test accuracy: 0.78\n",
      "Test accuracy: 0.8\n",
      "Test accuracy: 0.84\n",
      "Test accuracy: 0.83\n",
      "Test accuracy: 0.83\n",
      "Test accuracy: 0.8\n",
      "Test accuracy: 0.76\n",
      "Test accuracy: 0.77\n",
      "Test accuracy: 0.75\n",
      "Test accuracy: 0.77\n",
      "Test accuracy: 0.78\n",
      "Test accuracy: 0.72\n",
      "Test accuracy: 0.82\n",
      "Test accuracy: 0.77\n",
      "Test accuracy: 0.82\n",
      "Test accuracy: 0.76\n",
      "Test accuracy: 0.76\n",
      "Test accuracy: 0.65\n",
      "Test accuracy: 0.73\n",
      "Test accuracy: 0.8\n",
      "Test accuracy: 0.76\n",
      "Test accuracy: 0.76\n",
      "Test accuracy: 0.86\n",
      "Test accuracy: 0.77\n",
      "Test accuracy: 0.76\n",
      "Test accuracy: 0.79\n",
      "Test accuracy: 0.8\n",
      "Test accuracy: 0.76\n",
      "Test accuracy: 0.75\n",
      "Test accuracy: 0.73\n",
      "Test accuracy: 0.8\n",
      "Test accuracy: 0.73\n",
      "Test accuracy: 0.71\n",
      "Test accuracy: 0.77\n",
      "Test accuracy: 0.87\n",
      "Test accuracy: 0.83\n",
      "Test accuracy: 0.77\n",
      "Test accuracy: 0.91\n",
      "Test accuracy: 0.82\n",
      "Test accuracy: 0.71\n",
      "Test accuracy: 0.69\n",
      "Test accuracy: 0.72\n",
      "Test accuracy: 0.76\n",
      "Test accuracy: 0.75\n",
      "Test accuracy: 0.73\n",
      "Test accuracy: 0.77\n",
      "Test accuracy: 0.8\n",
      "Test accuracy: 0.82\n",
      "Test accuracy: 0.74\n",
      "Test accuracy: 0.74\n",
      "Test accuracy: 0.85\n",
      "Test accuracy: 0.86\n",
      "Test accuracy: 0.79\n",
      "Test accuracy: 0.78\n",
      "Test accuracy: 0.77\n",
      "Test accuracy: 0.78\n",
      "Test accuracy: 0.72\n",
      "Test accuracy: 0.77\n",
      "Test accuracy: 0.81\n",
      "Test accuracy: 0.78\n",
      "Test accuracy: 0.76\n",
      "Test accuracy: 0.76\n",
      "Test accuracy: 0.76\n",
      "Test accuracy: 0.81\n",
      "Test accuracy: 0.77\n",
      "Test accuracy: 0.77\n",
      "Test accuracy: 0.84\n",
      "Test accuracy: 0.76\n",
      "Test accuracy: 0.81\n",
      "Test accuracy: 0.74\n"
     ]
    },
    {
     "data": {
      "image/png": "[encoded data removed]",
      "text/plain": [
       "<Figure size 432x288 with 2 Axes>"
      ]
     },
     "metadata": {
      "needs_background": "light"
     },
     "output_type": "display_data"
    },
    {
     "name": "stdout",
     "output_type": "stream",
     "text": [
      "Training the model with learning rate: 0.1\n",
      "Iteration: 0 Loss: 2.2953484058380127\n",
      "Iteration: 100 Loss: 0.3567591905593872\n",
      "Iteration: 200 Loss: 0.26752689480781555\n",
      "Iteration: 300 Loss: 0.14241954684257507\n",
      "Iteration: 400 Loss: 0.13369759917259216\n",
      "Iteration: 500 Loss: 0.10178961604833603\n",
      "Test accuracy: 0.96\n",
      "Test accuracy: 1.0\n",
      "Test accuracy: 0.96\n",
      "Test accuracy: 0.98\n",
      "Test accuracy: 0.97\n",
      "Test accuracy: 0.95\n",
      "Test accuracy: 0.98\n",
      "Test accuracy: 0.97\n",
      "Test accuracy: 0.96\n",
      "Test accuracy: 0.97\n",
      "Test accuracy: 1.0\n",
      "Test accuracy: 0.99\n",
      "Test accuracy: 0.95\n",
      "Test accuracy: 0.92\n",
      "Test accuracy: 1.0\n",
      "Test accuracy: 0.96\n",
      "Test accuracy: 0.96\n",
      "Test accuracy: 1.0\n",
      "Test accuracy: 0.99\n",
      "Test accuracy: 0.95\n",
      "Test accuracy: 0.97\n",
      "Test accuracy: 0.98\n",
      "Test accuracy: 0.99\n",
      "Test accuracy: 0.97\n",
      "Test accuracy: 1.0\n",
      "Test accuracy: 0.94\n",
      "Test accuracy: 0.98\n",
      "Test accuracy: 0.99\n",
      "Test accuracy: 0.94\n",
      "Test accuracy: 0.96\n",
      "Test accuracy: 0.96\n",
      "Test accuracy: 0.98\n",
      "Test accuracy: 0.98\n",
      "Test accuracy: 0.95\n",
      "Test accuracy: 0.96\n",
      "Test accuracy: 0.94\n",
      "Test accuracy: 0.97\n",
      "Test accuracy: 0.97\n",
      "Test accuracy: 1.0\n",
      "Test accuracy: 0.96\n",
      "Test accuracy: 0.97\n",
      "Test accuracy: 0.97\n",
      "Test accuracy: 0.99\n",
      "Test accuracy: 0.97\n",
      "Test accuracy: 0.99\n",
      "Test accuracy: 0.99\n",
      "Test accuracy: 0.97\n",
      "Test accuracy: 0.98\n",
      "Test accuracy: 0.95\n",
      "Test accuracy: 0.92\n",
      "Test accuracy: 0.99\n",
      "Test accuracy: 0.97\n",
      "Test accuracy: 0.99\n",
      "Test accuracy: 0.96\n",
      "Test accuracy: 0.96\n",
      "Test accuracy: 0.96\n",
      "Test accuracy: 0.97\n",
      "Test accuracy: 0.95\n",
      "Test accuracy: 0.94\n",
      "Test accuracy: 0.98\n",
      "Test accuracy: 0.95\n",
      "Test accuracy: 0.97\n",
      "Test accuracy: 0.97\n",
      "Test accuracy: 0.99\n",
      "Test accuracy: 0.98\n",
      "Test accuracy: 0.98\n",
      "Test accuracy: 0.91\n",
      "Test accuracy: 0.96\n",
      "Test accuracy: 0.96\n",
      "Test accuracy: 0.99\n",
      "Test accuracy: 0.93\n",
      "Test accuracy: 0.96\n",
      "Test accuracy: 0.96\n",
      "Test accuracy: 0.99\n",
      "Test accuracy: 0.98\n",
      "Test accuracy: 0.99\n",
      "Test accuracy: 0.97\n",
      "Test accuracy: 0.97\n",
      "Test accuracy: 0.97\n",
      "Test accuracy: 0.97\n",
      "Test accuracy: 0.98\n",
      "Test accuracy: 0.94\n",
      "Test accuracy: 0.95\n",
      "Test accuracy: 1.0\n",
      "Test accuracy: 0.96\n",
      "Test accuracy: 0.96\n",
      "Test accuracy: 0.95\n",
      "Test accuracy: 0.98\n",
      "Test accuracy: 0.98\n",
      "Test accuracy: 0.94\n",
      "Test accuracy: 0.97\n",
      "Test accuracy: 0.94\n",
      "Test accuracy: 0.96\n",
      "Test accuracy: 0.99\n",
      "Test accuracy: 0.96\n",
      "Test accuracy: 0.97\n",
      "Test accuracy: 0.97\n",
      "Test accuracy: 0.96\n",
      "Test accuracy: 0.94\n",
      "Test accuracy: 0.98\n"
     ]
    },
    {
     "data": {
      "image/png": "[encoded data removed]",
      "text/plain": [
       "<Figure size 432x288 with 2 Axes>"
      ]
     },
     "metadata": {
      "needs_background": "light"
     },
     "output_type": "display_data"
    },
    {
     "name": "stdout",
     "output_type": "stream",
     "text": [
      "Training the model with learning rate: 1\n",
      "Iteration: 0 Loss: 2.3120975494384766\n",
      "Iteration: 100 Loss: 2.2895009517669678\n",
      "Iteration: 200 Loss: 2.300424098968506\n",
      "Iteration: 300 Loss: 2.3249120712280273\n",
      "Iteration: 400 Loss: 2.3170690536499023\n",
      "Iteration: 500 Loss: 2.3137199878692627\n",
      "Test accuracy: 0.17\n",
      "Test accuracy: 0.09\n",
      "Test accuracy: 0.13\n",
      "Test accuracy: 0.12\n",
      "Test accuracy: 0.09\n",
      "Test accuracy: 0.1\n",
      "Test accuracy: 0.12\n",
      "Test accuracy: 0.14\n",
      "Test accuracy: 0.12\n",
      "Test accuracy: 0.08\n",
      "Test accuracy: 0.09\n",
      "Test accuracy: 0.1\n",
      "Test accuracy: 0.11\n",
      "Test accuracy: 0.14\n",
      "Test accuracy: 0.12\n",
      "Test accuracy: 0.11\n",
      "Test accuracy: 0.15\n",
      "Test accuracy: 0.08\n",
      "Test accuracy: 0.12\n",
      "Test accuracy: 0.11\n",
      "Test accuracy: 0.08\n",
      "Test accuracy: 0.09\n",
      "Test accuracy: 0.06\n",
      "Test accuracy: 0.13\n",
      "Test accuracy: 0.1\n",
      "Test accuracy: 0.13\n",
      "Test accuracy: 0.1\n",
      "Test accuracy: 0.14\n",
      "Test accuracy: 0.12\n",
      "Test accuracy: 0.12\n",
      "Test accuracy: 0.14\n",
      "Test accuracy: 0.12\n",
      "Test accuracy: 0.18\n",
      "Test accuracy: 0.09\n",
      "Test accuracy: 0.12\n",
      "Test accuracy: 0.11\n",
      "Test accuracy: 0.1\n",
      "Test accuracy: 0.11\n",
      "Test accuracy: 0.11\n",
      "Test accuracy: 0.11\n",
      "Test accuracy: 0.16\n",
      "Test accuracy: 0.12\n",
      "Test accuracy: 0.15\n",
      "Test accuracy: 0.1\n",
      "Test accuracy: 0.16\n",
      "Test accuracy: 0.11\n",
      "Test accuracy: 0.11\n",
      "Test accuracy: 0.07\n",
      "Test accuracy: 0.09\n",
      "Test accuracy: 0.12\n",
      "Test accuracy: 0.15\n",
      "Test accuracy: 0.1\n",
      "Test accuracy: 0.09\n",
      "Test accuracy: 0.17\n",
      "Test accuracy: 0.12\n",
      "Test accuracy: 0.16\n",
      "Test accuracy: 0.11\n",
      "Test accuracy: 0.15\n",
      "Test accuracy: 0.17\n",
      "Test accuracy: 0.16\n",
      "Test accuracy: 0.15\n",
      "Test accuracy: 0.1\n",
      "Test accuracy: 0.11\n",
      "Test accuracy: 0.21\n",
      "Test accuracy: 0.1\n",
      "Test accuracy: 0.11\n",
      "Test accuracy: 0.08\n",
      "Test accuracy: 0.09\n",
      "Test accuracy: 0.06\n",
      "Test accuracy: 0.06\n",
      "Test accuracy: 0.15\n",
      "Test accuracy: 0.05\n",
      "Test accuracy: 0.14\n",
      "Test accuracy: 0.11\n",
      "Test accuracy: 0.12\n",
      "Test accuracy: 0.1\n",
      "Test accuracy: 0.11\n",
      "Test accuracy: 0.07\n",
      "Test accuracy: 0.11\n",
      "Test accuracy: 0.12\n",
      "Test accuracy: 0.07\n",
      "Test accuracy: 0.16\n",
      "Test accuracy: 0.1\n",
      "Test accuracy: 0.08\n",
      "Test accuracy: 0.11\n",
      "Test accuracy: 0.06\n",
      "Test accuracy: 0.12\n",
      "Test accuracy: 0.11\n",
      "Test accuracy: 0.06\n",
      "Test accuracy: 0.09\n",
      "Test accuracy: 0.12\n",
      "Test accuracy: 0.08\n",
      "Test accuracy: 0.11\n",
      "Test accuracy: 0.09\n",
      "Test accuracy: 0.1\n",
      "Test accuracy: 0.17\n",
      "Test accuracy: 0.09\n",
      "Test accuracy: 0.15\n",
      "Test accuracy: 0.1\n",
      "Test accuracy: 0.11\n"
     ]
    },
    {
     "data": {
      "image/png": "[encoded data removed]",
      "text/plain": [
       "<Figure size 432x288 with 2 Axes>"
      ]
     },
     "metadata": {
      "needs_background": "light"
     },
     "output_type": "display_data"
    }
   ],
   "source": [
    "# grid search\n",
    "learning_rates = [0.001,0.01,0.1,1]\n",
    "for lr in learning_rates:\n",
    "    model = CNN()\n",
    "    optimizer = torch.optim.SGD(model.parameters(),lr=lr)\n",
    "    loss_fn = torch.nn.CrossEntropyLoss()\n",
    "    loss_mat = np.zeros(len(train_loader))\n",
    "    acc_mat = np.zeros(len(train_loader))\n",
    "    print('Training the model with learning rate:',lr)\n",
    "    for i,(data,target) in enumerate(train_loader):\n",
    "        data,target = data.to(torch.float),target.to(torch.long)\n",
    "        output = model(data)\n",
    "        loss = loss_fn(output,target)\n",
    "        optimizer.zero_grad()\n",
    "        loss.backward()\n",
    "        optimizer.step()\n",
    "        loss_mat[i] = loss.item()\n",
    "        acc_mat[i] = (output.argmax(dim=1)==target).sum().item()/target.shape[0]\n",
    "        if i%100==0:\n",
    "            print('Iteration:',i,'Loss:',loss.item())\n",
    "    acc_test = np.zeros(len(test_loader))\n",
    "    for i,(data,target) in enumerate(test_loader):\n",
    "        data,target = data.to(torch.float),target.to(torch.long)\n",
    "        output = model(data)\n",
    "        acc_test[i] = (output.argmax(dim=1)==target).sum().item()/target.shape[0]\n",
    "        print('Test accuracy:',acc_test[i])\n",
    "    fig,ax = plt.subplots(1,2)\n",
    "    ax[0].plot(loss_mat)\n",
    "    ax[0].set_title('Loss')\n",
    "    ax[1].plot(acc_mat)\n",
    "    ax[1].set_title('Accuracy')\n",
    "    plt.show() "
   ]
  },
  {
   "cell_type": "code",
   "execution_count": 15,
   "metadata": {},
   "outputs": [
    {
     "name": "stdout",
     "output_type": "stream",
     "text": [
      "Predicted digit: 1\n",
      "Actual digit: 7\n",
      "Prediction: tensor([[0.1070, 0.1144, 0.0963, 0.1048, 0.0935, 0.0943, 0.0810, 0.0989, 0.1051,\n",
      "         0.1047]], grad_fn=<SoftmaxBackward0>)\n"
     ]
    }
   ],
   "source": [
    "# faire un test avec le model\n",
    "test_data = data_test[0][0].view(1,1,28,28)\n",
    "test_data = test_data.to(torch.float)\n",
    "output = model(test_data)\n",
    "print('Predicted digit:',output.argmax(dim=1).item())\n",
    "print('Actual digit:',data_test[0][1])\n",
    "print('Prediction:',torch.nn.functional.softmax(output,dim=1))"
   ]
  },
  {
   "cell_type": "code",
   "execution_count": 21,
   "metadata": {},
   "outputs": [
    {
     "name": "stdout",
     "output_type": "stream",
     "text": [
      "Predicted digit: 8\n",
      "Prediction: tensor([[2.5700e-03, 3.3005e-05, 1.6515e-01, 1.2830e-01, 2.5089e-01, 2.9275e-02,\n",
      "         9.5621e-03, 3.0383e-04, 3.4152e-01, 7.2399e-02]],\n",
      "       grad_fn=<SoftmaxBackward0>)\n"
     ]
    }
   ],
   "source": [
    "# tester avec une image et la classifier\n",
    "from PIL import Image\n",
    "img = \"img7.png\"\n",
    "img = Image.open(img)\n",
    "img = img.resize((28,28))\n",
    "img = np.array(img)\n",
    "img = img.reshape(1,1,28,28)\n",
    "img = torch.from_numpy(img)\n",
    "img = img.to(torch.float)\n",
    "output = model(img)\n",
    "print('Predicted digit:',output.argmax(dim=1).item())\n",
    "print('Prediction:',torch.nn.functional.softmax(output,dim=1))"
   ]
  }
 ],
 "metadata": {
  "interpreter": {
   "hash": "65ebce5d3542f4c67b448b007fe76a5ff804be33753ecce08199f7e54e1edf21"
  },
  "kernelspec": {
   "display_name": "Python 3.10.4 64-bit",
   "language": "python",
   "name": "python3"
  },
  "language_info": {
   "codemirror_mode": {
    "name": "ipython",
    "version": 3
   },
   "file_extension": ".py",
   "mimetype": "text/x-python",
   "name": "python",
   "nbconvert_exporter": "python",
   "pygments_lexer": "ipython3",
   "version": "3.10.4"
  },
  "orig_nbformat": 4
 },
 "nbformat": 4,
 "nbformat_minor": 2
}
