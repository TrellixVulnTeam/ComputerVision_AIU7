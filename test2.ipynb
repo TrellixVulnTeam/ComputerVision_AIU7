{
 "cells": [
  {
   "cell_type": "code",
   "execution_count": 11,
   "metadata": {},
   "outputs": [
    {
     "ename": "ImportError",
     "evalue": "cannot import name 'plot_convolution' from 'pytorchcv' (C:\\Users\\a-anouar.lajaaiti\\AppData\\Local\\Programs\\Python\\Python310\\lib\\site-packages\\pytorchcv\\__init__.py)",
     "output_type": "error",
     "traceback": [
      "\u001b[1;31m---------------------------------------------------------------------------\u001b[0m",
      "\u001b[1;31mImportError\u001b[0m                               Traceback (most recent call last)",
      "\u001b[1;32mc:\\Users\\a-anouar.lajaaiti\\Desktop\\dossier test_ihu\\test2.ipynb Cell 1'\u001b[0m in \u001b[0;36m<cell line: 11>\u001b[1;34m()\u001b[0m\n\u001b[0;32m      <a href='vscode-notebook-cell:/c%3A/Users/a-anouar.lajaaiti/Desktop/dossier%20test_ihu/test2.ipynb#ch0000000?line=7'>8</a>\u001b[0m \u001b[39mimport\u001b[39;00m \u001b[39mpytorchcv\u001b[39;00m\n\u001b[0;32m     <a href='vscode-notebook-cell:/c%3A/Users/a-anouar.lajaaiti/Desktop/dossier%20test_ihu/test2.ipynb#ch0000000?line=9'>10</a>\u001b[0m \u001b[39m# import plot_convolution\u001b[39;00m\n\u001b[1;32m---> <a href='vscode-notebook-cell:/c%3A/Users/a-anouar.lajaaiti/Desktop/dossier%20test_ihu/test2.ipynb#ch0000000?line=10'>11</a>\u001b[0m \u001b[39mfrom\u001b[39;00m \u001b[39mpytorchcv\u001b[39;00m \u001b[39mimport\u001b[39;00m plot_convolution\n",
      "\u001b[1;31mImportError\u001b[0m: cannot import name 'plot_convolution' from 'pytorchcv' (C:\\Users\\a-anouar.lajaaiti\\AppData\\Local\\Programs\\Python\\Python310\\lib\\site-packages\\pytorchcv\\__init__.py)"
     ]
    }
   ],
   "source": [
    "import torch\n",
    "import torch.nn as nn\n",
    "import torchvision\n",
    "import matplotlib.pyplot as plt\n",
    "from torchinfo import summary\n",
    "import numpy as np\n",
    "\n",
    "import pytorchcv\n",
    "\n",
    "# import plot_convolution\n",
    "from pytorchcv import plot_convolution\n",
    "\n"
   ]
  },
  {
   "cell_type": "code",
   "execution_count": 9,
   "metadata": {},
   "outputs": [],
   "source": [
    "from torchvision.transforms import ToTensor\n",
    "\n",
    "data_train = torchvision.datasets.MNIST('./data',\n",
    "        download=True,train=True,transform=ToTensor())\n",
    "data_test = torchvision.datasets.MNIST('./data',\n",
    "        download=True,train=False,transform=ToTensor())"
   ]
  },
  {
   "cell_type": "code",
   "execution_count": 10,
   "metadata": {},
   "outputs": [
    {
     "ename": "NameError",
     "evalue": "name 'plot_convolution' is not defined",
     "output_type": "error",
     "traceback": [
      "\u001b[1;31m---------------------------------------------------------------------------\u001b[0m",
      "\u001b[1;31mNameError\u001b[0m                                 Traceback (most recent call last)",
      "\u001b[1;32mc:\\Users\\a-anouar.lajaaiti\\Desktop\\dossier test_ihu\\test2.ipynb Cell 3'\u001b[0m in \u001b[0;36m<cell line: 1>\u001b[1;34m()\u001b[0m\n\u001b[1;32m----> <a href='vscode-notebook-cell:/c%3A/Users/a-anouar.lajaaiti/Desktop/dossier%20test_ihu/test2.ipynb#ch0000003?line=0'>1</a>\u001b[0m plot_convolution(torch\u001b[39m.\u001b[39mtensor([[\u001b[39m-\u001b[39m\u001b[39m1.\u001b[39m,\u001b[39m0.\u001b[39m,\u001b[39m1.\u001b[39m],[\u001b[39m-\u001b[39m\u001b[39m1.\u001b[39m,\u001b[39m0.\u001b[39m,\u001b[39m1.\u001b[39m],[\u001b[39m-\u001b[39m\u001b[39m1.\u001b[39m,\u001b[39m0.\u001b[39m,\u001b[39m1.\u001b[39m]]),\u001b[39m'\u001b[39m\u001b[39mVertical edge filter\u001b[39m\u001b[39m'\u001b[39m)\n\u001b[0;32m      <a href='vscode-notebook-cell:/c%3A/Users/a-anouar.lajaaiti/Desktop/dossier%20test_ihu/test2.ipynb#ch0000003?line=1'>2</a>\u001b[0m plot_convolution(torch\u001b[39m.\u001b[39mtensor([[\u001b[39m-\u001b[39m\u001b[39m1.\u001b[39m,\u001b[39m-\u001b[39m\u001b[39m1.\u001b[39m,\u001b[39m-\u001b[39m\u001b[39m1.\u001b[39m],[\u001b[39m0.\u001b[39m,\u001b[39m0.\u001b[39m,\u001b[39m0.\u001b[39m],[\u001b[39m1.\u001b[39m,\u001b[39m1.\u001b[39m,\u001b[39m1.\u001b[39m]]),\u001b[39m'\u001b[39m\u001b[39mHorizontal edge filter\u001b[39m\u001b[39m'\u001b[39m)\n",
      "\u001b[1;31mNameError\u001b[0m: name 'plot_convolution' is not defined"
     ]
    }
   ],
   "source": [
    "plot_convolution(torch.tensor([[-1.,0.,1.],[-1.,0.,1.],[-1.,0.,1.]]),'Vertical edge filter')\n",
    "plot_convolution(torch.tensor([[-1.,-1.,-1.],[0.,0.,0.],[1.,1.,1.]]),'Horizontal edge filter')"
   ]
  }
 ],
 "metadata": {
  "language_info": {
   "name": "python"
  },
  "orig_nbformat": 4
 },
 "nbformat": 4,
 "nbformat_minor": 2
}
